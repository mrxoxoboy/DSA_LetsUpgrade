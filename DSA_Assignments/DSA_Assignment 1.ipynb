{
 "cells": [
  {
   "cell_type": "markdown",
   "metadata": {},
   "source": [
    "# Question1 - Write a python program that takes two numbers as the input and print the result of Addition,Subtraction, Multiplication, Division of the two numbers"
   ]
  },
  {
   "cell_type": "code",
   "execution_count": 2,
   "metadata": {},
   "outputs": [
    {
     "name": "stdout",
     "output_type": "stream",
     "text": [
      "Enter first number:4\n",
      "Enter second number:4\n",
      "Addition: 8\n",
      "Subtraction: 0\n",
      "Product: 16\n",
      "Division: 1.0\n"
     ]
    }
   ],
   "source": [
    "def add(a,b):\n",
    "    return print(\"Addition:\",a+b)\n",
    "\n",
    "def subtract(a,b):\n",
    "    return print(\"Subtraction:\",a-b)\n",
    "\n",
    "def multiply(a,b):\n",
    "    return print(\"Product:\",a*b)\n",
    "\n",
    "def division(a,b):\n",
    "    return print(\"Division:\",a/b)\n",
    "\n",
    "num1 = int(input(\"Enter first number:\"))\n",
    "num2 = int(input(\"Enter second number:\"))\n",
    "\n",
    "add(num1,num2)\n",
    "subtract(num1,num2)\n",
    "multiply(num1,num2)\n",
    "division(num1,num2)"
   ]
  },
  {
   "cell_type": "markdown",
   "metadata": {},
   "source": [
    "# Question 2- Write a python program that takes two numbers as the input such as X and Y and print the result of X^Y(X to the power of Y)."
   ]
  },
  {
   "cell_type": "code",
   "execution_count": 4,
   "metadata": {},
   "outputs": [
    {
     "name": "stdout",
     "output_type": "stream",
     "text": [
      "Enter first number:2\n",
      "Enter second number:4\n",
      "2 to the power of 4 : 16\n"
     ]
    }
   ],
   "source": [
    "a = int(input(\"Enter first number:\"))\n",
    "b = int(input(\"Enter second number:\"))\n",
    "print(a,\"to the power of\",b,\":\",a**b)"
   ]
  },
  {
   "cell_type": "code",
   "execution_count": null,
   "metadata": {},
   "outputs": [],
   "source": []
  }
 ],
 "metadata": {
  "kernelspec": {
   "display_name": "Python 3",
   "language": "python",
   "name": "python3"
  },
  "language_info": {
   "codemirror_mode": {
    "name": "ipython",
    "version": 3
   },
   "file_extension": ".py",
   "mimetype": "text/x-python",
   "name": "python",
   "nbconvert_exporter": "python",
   "pygments_lexer": "ipython3",
   "version": "3.8.3"
  }
 },
 "nbformat": 4,
 "nbformat_minor": 4
}
